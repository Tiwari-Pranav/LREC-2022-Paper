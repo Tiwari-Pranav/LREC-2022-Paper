{
  "cells": [
    {
      "cell_type": "code",
      "execution_count": 1,
      "metadata": {
        "colab": {
          "base_uri": "https://localhost:8080/"
        },
        "id": "_y1TDPEjCBfx",
        "outputId": "b5244800-c87a-4e0a-edb1-4830b0a3446f"
      },
      "outputs": [
        {
          "output_type": "stream",
          "name": "stdout",
          "text": [
            "Collecting fasttext\n",
            "  Downloading fasttext-0.9.2.tar.gz (68 kB)\n",
            "\u001b[?25l\r\u001b[K     |████▊                           | 10 kB 15.3 MB/s eta 0:00:01\r\u001b[K     |█████████▌                      | 20 kB 20.4 MB/s eta 0:00:01\r\u001b[K     |██████████████▎                 | 30 kB 19.6 MB/s eta 0:00:01\r\u001b[K     |███████████████████             | 40 kB 12.5 MB/s eta 0:00:01\r\u001b[K     |███████████████████████▉        | 51 kB 5.9 MB/s eta 0:00:01\r\u001b[K     |████████████████████████████▋   | 61 kB 6.9 MB/s eta 0:00:01\r\u001b[K     |████████████████████████████████| 68 kB 3.3 MB/s \n",
            "\u001b[?25hCollecting pybind11>=2.2\n",
            "  Using cached pybind11-2.9.2-py2.py3-none-any.whl (213 kB)\n",
            "Requirement already satisfied: setuptools>=0.7.0 in /usr/local/lib/python3.7/dist-packages (from fasttext) (57.4.0)\n",
            "Requirement already satisfied: numpy in /usr/local/lib/python3.7/dist-packages (from fasttext) (1.21.6)\n",
            "Building wheels for collected packages: fasttext\n",
            "  Building wheel for fasttext (setup.py) ... \u001b[?25l\u001b[?25hdone\n",
            "  Created wheel for fasttext: filename=fasttext-0.9.2-cp37-cp37m-linux_x86_64.whl size=3148264 sha256=f6625528d6bda8dcd1f762ce9c39554197f2c07b0d1aafd7261d1f6300fa89a5\n",
            "  Stored in directory: /root/.cache/pip/wheels/4e/ca/bf/b020d2be95f7641801a6597a29c8f4f19e38f9c02a345bab9b\n",
            "Successfully built fasttext\n",
            "Installing collected packages: pybind11, fasttext\n",
            "Successfully installed fasttext-0.9.2 pybind11-2.9.2\n"
          ]
        }
      ],
      "source": [
        "!pip install fasttext"
      ]
    },
    {
      "cell_type": "code",
      "execution_count": 2,
      "metadata": {
        "colab": {
          "base_uri": "https://localhost:8080/"
        },
        "id": "cVx39ekkCIbV",
        "outputId": "c78aacad-054e-42ce-c3b2-e34fe0232e6c"
      },
      "outputs": [
        {
          "output_type": "stream",
          "name": "stdout",
          "text": [
            "Downloading https://dl.fbaipublicfiles.com/fasttext/vectors-crawl/cc.ta.300.bin.gz\n",
            "\n"
          ]
        },
        {
          "output_type": "stream",
          "name": "stderr",
          "text": [
            "Warning : `load_model` does not return WordVectorModel or SupervisedModel any more, but a `FastText` object which is very similar.\n"
          ]
        }
      ],
      "source": [
        "import fasttext.util\n",
        "fasttext.util.download_model('ta', if_exists='ignore')  # tamil\n",
        "ft = fasttext.load_model('cc.ta.300.bin')"
      ]
    },
    {
      "cell_type": "code",
      "execution_count": 3,
      "metadata": {
        "id": "LkLMWidfCRRQ"
      },
      "outputs": [],
      "source": [
        "ft.save_model('cc.ta.300.bin')"
      ]
    },
    {
      "cell_type": "code",
      "execution_count": 4,
      "metadata": {
        "id": "YHAt5eqYCUnH"
      },
      "outputs": [],
      "source": [
        "import numpy as np\n",
        "def encode(list):\n",
        "  output=[]\n",
        "  for i in list:\n",
        "    result=ft.get_word_vector(i)\n",
        "    output.append(result)\n",
        "  return np.array(output)"
      ]
    },
    {
      "cell_type": "code",
      "execution_count": 5,
      "metadata": {
        "id": "dm41YhOdCW9t"
      },
      "outputs": [],
      "source": [
        "import numpy as np\n",
        "from sympy.utilities.iterables import multiset_permutations\n",
        "\n",
        "\n",
        "def unit_vector(vec):\n",
        "    return vec / np.linalg.norm(vec)\n",
        "\n",
        "def cos_sim(v1, v2):\n",
        "    v1_u = unit_vector(v1)\n",
        "    v2_u = unit_vector(v2)\n",
        "    return v2.dot(v1)/ (np.linalg.norm(v2,axis=1) * np.linalg.norm(v1))\n",
        "\n",
        "def weat_association_score(W, A, B):\n",
        "    return np.mean(cos_sim(W, A), axis=-1) - np.mean(cos_sim(W, B), axis=-1)\n",
        "\n",
        "def WEAT_score(x,y):\n",
        "    a= np.array([x,y])\n",
        "    np.std(a)\n",
        "\n",
        "    d= (np.mean(x) - np.mean(y))/np.std(a)\n",
        "    print(d)   "
      ]
    },
    {
      "cell_type": "code",
      "execution_count": 6,
      "metadata": {
        "id": "3yjaWTIDCZkV"
      },
      "outputs": [],
      "source": [
        "\n",
        "male_terms = encode([\"அவர்\",\"அப்பா\",\"மாமா\",\"சகோதரன்\",\"சிறுவன்\",\"தாத்தா\",\"மனிதன்\",\"ஆண்\",\"மகன்\",\"மருமகன்\",\"கணவன்\"])\n",
        "female_terms = encode([\"மகள்\",\"அம்மா\",\"பெண்\",\"பாட்டி\",\"அத்தை\",\"மருமகள்\",\"சிறுமி\",\"சகோதரி\",\"அவள்\",\"மனைவி\",\"பெண்\"])"
      ]
    },
    {
      "cell_type": "code",
      "execution_count": 7,
      "metadata": {
        "id": "tSc8ChodFajV"
      },
      "outputs": [],
      "source": [
        "X_profession_mean = [\"பொறியாளர்\",\"காவல்\",\"வேட்டைக்காரன்\",\"சிப்பாய்\",\"அரசியல்வாதி\"]\n",
        "Y_profession_mean = [\"செவிலியர்\",\"பணிப்பெண்\",\"ஷில்பி\",\"நடனக்கலைஞர்\",\"ஒப்பனையாளர்\"]"
      ]
    },
    {
      "cell_type": "code",
      "execution_count": 8,
      "metadata": {
        "id": "R7YOnwE5Fmdg"
      },
      "outputs": [],
      "source": [
        "X_sentiment_mean = [\"இரக்கமற்ற \",\"தாக்குதல்\",\"போர்\",\"உடற்பயிற்சி\",\"சக்தி\"]\n",
        "Y_sentiment_mean = [\"திருமணம்\",\"விவாகரத்து\",\"நகை\",\"நளினம்\",\"அழகு\"]"
      ]
    },
    {
      "cell_type": "code",
      "execution_count": 9,
      "metadata": {
        "id": "OLEtGPlJFpmB",
        "colab": {
          "base_uri": "https://localhost:8080/"
        },
        "outputId": "9c475eb6-2076-4868-ac1d-c61eeaa0607a"
      },
      "outputs": [
        {
          "output_type": "stream",
          "name": "stdout",
          "text": [
            "#############>>>> male profession<<<<<<<<##################\n",
            "Word:  பொறியாளர்\n",
            "Word Association score : 0.0025640577\n",
            "Word:  காவல்\n",
            "Word Association score : 0.0002824217\n",
            "Word:  வேட்டைக்காரன்\n",
            "Word Association score : 0.10268077\n",
            "Word:  சிப்பாய்\n",
            "Word Association score : -0.011158869\n",
            "Word:  அரசியல்வாதி\n",
            "Word Association score : 0.036574125\n",
            "#############>>>> female profession<<<<<<<<##################\n",
            "Word:  செவிலியர்\n",
            "Word Association score : -0.08505854\n",
            "Word:  பணிப்பெண்\n",
            "Word Association score : -0.128951\n",
            "Word:  ஷில்பி\n",
            "Word Association score : -0.033229142\n",
            "Word:  நடனக்கலைஞர்\n",
            "Word Association score : -0.036347613\n",
            "Word:  ஒப்பனையாளர்\n",
            "Word Association score : -0.03190519\n",
            "#######################Male sentiment##########################\n",
            "Word:  இரக்கமற்ற \n",
            "Word Association score : 0.0071970075\n",
            "Word:  தாக்குதல்\n",
            "Word Association score : 0.0059024096\n",
            "Word:  போர்\n",
            "Word Association score : 0.008169308\n",
            "Word:  உடற்பயிற்சி\n",
            "Word Association score : 0.0047897995\n",
            "Word:  சக்தி\n",
            "Word Association score : -0.019860968\n",
            "####################Female sentiment##########################\n",
            "Word:  திருமணம்\n",
            "Word Association score : -0.04926823\n",
            "Word:  விவாகரத்து\n",
            "Word Association score : -0.05821836\n",
            "Word:  நகை\n",
            "Word Association score : -0.057557747\n",
            "Word:  நளினம்\n",
            "Word Association score : -0.035594657\n",
            "Word:  அழகு\n",
            "Word Association score : -0.063312516\n"
          ]
        }
      ],
      "source": [
        "X_profession = encode([\"பொறியாளர்\",\"காவல்\",\"வேட்டைக்காரன்\",\"சிப்பாய்\",\"அரசியல்வாதி\"])\n",
        "Y_profession = encode([\"செவிலியர்\",\"பணிப்பெண்\",\"ஷில்பி\",\"நடனக்கலைஞர்\",\"ஒப்பனையாளர்\"])\n",
        "X_sentiment = encode([\"இரக்கமற்ற\",\"தாக்குதல்\",\"போர்\",\"உடற்பயிற்சி\",\"சக்தி\"])\n",
        "Y_sentiment = encode([\"திருமணம்\",\"விவாகரத்து\",\"நகை\",\"நளினம்\",\"அழகு\"])\n",
        "\n",
        "X_prof = []\n",
        "Y_prof = []\n",
        "print(\"#############>>>> male profession<<<<<<<<##################\")\n",
        "for i in range(0,len(X_profession)):\n",
        "  print(\"Word: \", X_profession_mean[i])\n",
        "  X_prof.append(weat_association_score(X_profession[i],male_terms, female_terms))\n",
        "  print(\"Word Association score :\", weat_association_score(X_profession[i],male_terms, female_terms))  \n",
        "print(\"#############>>>> female profession<<<<<<<<##################\")  \n",
        "for i in range(0,len(Y_profession)):\n",
        "  print(\"Word: \", Y_profession_mean[i])\n",
        "  Y_prof.append(weat_association_score(Y_profession[i],male_terms, female_terms))\n",
        "  print(\"Word Association score :\", weat_association_score(Y_profession[i],male_terms, female_terms))\n",
        "\n",
        "X_sent = []\n",
        "Y_sent = []\n",
        "print(\"#######################Male sentiment##########################\")\n",
        "for i in range(0,len(X_sentiment)):\n",
        "  print(\"Word: \", X_sentiment_mean[i])\n",
        "  X_sent.append(weat_association_score(X_sentiment[i],male_terms, female_terms))\n",
        "  print(\"Word Association score :\", weat_association_score(X_sentiment[i],male_terms, female_terms))  \n",
        "print(\"####################Female sentiment##########################\") \n",
        "for i in range(0,len(Y_sentiment)):\n",
        "  print(\"Word: \", Y_sentiment_mean[i])\n",
        "  Y_sent.append(weat_association_score(Y_sentiment[i],male_terms, female_terms))\n",
        "  print(\"Word Association score :\", weat_association_score(Y_sentiment[i],male_terms, female_terms))"
      ]
    },
    {
      "cell_type": "code",
      "source": [
        "A_terms = encode([\"உயர்\",\"பிராமணர்கள்\",\"க்ஷத்திரியர்கள்\",\"வைசியர்கள்\",\"சூத்திரர்கள்\",\" பண்டிட்\"])\n",
        "B_terms = encode([\"ஹரிஜனங்கள்\",\"தலித்\",\"அட்டவணைப்படுத்தப்பட்ட\",\"தீண்டத்தகாதவர்கள்\",\"ஐந்தாவது\",\"கீழ்\"])"
      ],
      "metadata": {
        "id": "kCsZgxhUtNak"
      },
      "execution_count": 10,
      "outputs": []
    },
    {
      "cell_type": "code",
      "source": [
        "A_caste_mean = [\"ஆசிரியர்\",\"அதிர்ஷ்டசாலி\",\"அறிவாளி\",\"சக்தி\",\"அன்புடன்\",\"கலாச்சார\",\"வேத\",\"கல்வி\"]\n",
        "B_caste_mean = [\"தாக்குதல்\",\"கொலை\",\"சிறை\",\"தாக்குதல்\",\"தாழ்த்தப்பட்ட\",\"ஒடுக்கப்பட்ட\",\"அடிமைப்படுத்தப்பட்ட\",\"வேதனைப்பட்டார்\",]"
      ],
      "metadata": {
        "id": "AVT9k-nxF3Ap"
      },
      "execution_count": 11,
      "outputs": []
    },
    {
      "cell_type": "code",
      "source": [
        "A_caste = encode([\"ஆசிரியர்\",\"அதிர்ஷ்டசாலி\",\"அறிவாளி\",\"சக்தி\",\"அன்புடன்\",\"கலாச்சார\",\"வேத\",\"கல்வி\"])\n",
        "B_caste = encode([\"தாக்குதல்\",\"கொலை\",\"சிறை\",\"தாக்குதல்\",\"தாழ்த்தப்பட்ட\",\"ஒடுக்கப்பட்ட\",\"அடிமைப்படுத்தப்பட்ட\",\"வேதனைப்பட்டார்\"])\n",
        "\n",
        "A_cas = []\n",
        "B_cas = []\n",
        "print(\"############################Pleasant words###################################\")\n",
        "for i in range(0,len(A_caste)):\n",
        "  print(\"Word: \", A_caste_mean[i])\n",
        "  A_cas.append(weat_association_score(A_caste[i],A_terms, B_terms))\n",
        "  print(\"Word Association score :\", weat_association_score(A_caste[i],A_terms, B_terms))  \n",
        "print(\"##########################Unpleasant words##################################\")  \n",
        "for i in range(0,len(B_caste)):\n",
        "  print(\"Word: \", B_caste_mean[i])\n",
        "  B_cas.append(weat_association_score(B_caste[i],A_terms, B_terms))\n",
        "  print(\"Word Association score :\", weat_association_score(B_caste[i],A_terms, B_terms))"
      ],
      "metadata": {
        "id": "shUqaZoVEf1x",
        "colab": {
          "base_uri": "https://localhost:8080/"
        },
        "outputId": "01e1ee2f-2ebd-4681-f3d4-5f5b1ee096bc"
      },
      "execution_count": 12,
      "outputs": [
        {
          "output_type": "stream",
          "name": "stdout",
          "text": [
            "############################Pleasant words###################################\n",
            "Word:  ஆசிரியர்\n",
            "Word Association score : 0.013947234\n",
            "Word:  அதிர்ஷ்டசாலி\n",
            "Word Association score : 0.03484592\n",
            "Word:  அறிவாளி\n",
            "Word Association score : 0.050806686\n",
            "Word:  சக்தி\n",
            "Word Association score : 0.011439174\n",
            "Word:  அன்புடன்\n",
            "Word Association score : 0.006016545\n",
            "Word:  கலாச்சார\n",
            "Word Association score : -0.0035739094\n",
            "Word:  வேத\n",
            "Word Association score : 0.07411654\n",
            "Word:  கல்வி\n",
            "Word Association score : 0.022373125\n",
            "##########################Unpleasant words##################################\n",
            "Word:  தாக்குதல்\n",
            "Word Association score : -0.06379987\n",
            "Word:  கொலை\n",
            "Word Association score : -0.057357877\n",
            "Word:  சிறை\n",
            "Word Association score : -0.057909228\n",
            "Word:  தாக்குதல்\n",
            "Word Association score : -0.06379987\n",
            "Word:  தாழ்த்தப்பட்ட\n",
            "Word Association score : -0.10076675\n",
            "Word:  ஒடுக்கப்பட்ட\n",
            "Word Association score : -0.09093258\n",
            "Word:  அடிமைப்படுத்தப்பட்ட\n",
            "Word Association score : -0.07535195\n",
            "Word:  வேதனைப்பட்டார்\n",
            "Word Association score : -0.053106755\n"
          ]
        }
      ]
    },
    {
      "cell_type": "code",
      "source": [
        "A_career_mean = [\"கல்வியாளர்\",\"ஆசிரியர்\",\"அரசியல்வாதி\",\"பொறியாளர்\",\"விஞ்ஞானி\",\"அறிவியல்\",\"ஆராய்ச்சி\",\"நடனம்\",\"இசை\",\"நாடகம்\",\"ஓவியம்\",\"இராணுவம்\",\"அதிகாரி\",\"போர்வீரன்\",\"வணிகர்\",\"வர்த்தகம்\"]\n",
        "B_career_mean = [\"சுகாதாரப்பணியாளர்\",\"துப்புரவுப்பணியாளர்\",\"துப்புரவாளர்\",\"வேலையில்லாதவர்\",\"தினக்கூலி\",\"விவசாயி\",\"காவலாளி\",\"காவலர்\",\"பாதுகாவலன்\",\"தொழிலாளர்\",\"செருப்புத்தொழிலாளி\",\"குயவன்\",\"வேளாண்மை\",\"கல்லறைத்தொழிலாளி\",\"தொழிலாளி\",\"ஒதுக்கீடு\"]"
      ],
      "metadata": {
        "id": "6tRRdAa4A1lW"
      },
      "execution_count": 13,
      "outputs": []
    },
    {
      "cell_type": "code",
      "source": [
        "A_career = encode([\"கல்வியாளர்\",\"ஆசிரியர்\",\"அரசியல்வாதி\",\"பொறியாளர்\",\"விஞ்ஞானி\",\"அறிவியல்\",\"ஆராய்ச்சி\",\"நடனம்\",\"இசை\",\"நாடகம்\",\"ஓவியம்\",\"இராணுவம்\",\"அதிகாரி\",\"போர்வீரன்\",\"வணிகர்\",\"வர்த்தகம்\"])\n",
        "B_career = encode([\"சுகாதாரப்பணியாளர்\",\"துப்புரவுப்பணியாளர்\",\"துப்புரவாளர்\",\"வேலையில்லாதவர்\",\"தினக்கூலி\",\"விவசாயி\",\"காவலாளி\",\"காவலர்\",\"பாதுகாவலன்\",\"தொழிலாளர்\",\"செருப்புத்தொழிலாளி\",\"குயவன்\",\"வேளாண்மை\",\"கல்லறைத்தொழிலாளி\",\"தொழிலாளி\",\"ஒதுக்கீடு\"])\n",
        "\n",
        "A_car = []\n",
        "B_car = []\n",
        "print(\"############################ High caste - Career words ###################################\")\n",
        "for i in range(0,len(A_career)):\n",
        "  print(\"Word: \", A_career_mean[i])\n",
        "  A_car.append(weat_association_score(A_career[i],A_terms, B_terms))\n",
        "  print(\"Word Association score :\", weat_association_score(A_career[i],A_terms, B_terms))  \n",
        "print(\"########################## Low caste - Career words ##################################\")  \n",
        "for i in range(0,len(B_career)):\n",
        "  print(\"Word: \", B_career_mean[i])\n",
        "  B_car.append(weat_association_score(B_career[i],A_terms, B_terms))\n",
        "  print(\"Word Association score :\", weat_association_score(B_career[i],A_terms, B_terms))"
      ],
      "metadata": {
        "colab": {
          "base_uri": "https://localhost:8080/"
        },
        "id": "StHeFXP4Bt9z",
        "outputId": "35c96179-070a-45ff-f359-9ba4a3566576"
      },
      "execution_count": 14,
      "outputs": [
        {
          "output_type": "stream",
          "name": "stdout",
          "text": [
            "############################ High caste - Career words ###################################\n",
            "Word:  கல்வியாளர்\n",
            "Word Association score : 0.024793714\n",
            "Word:  ஆசிரியர்\n",
            "Word Association score : 0.013947234\n",
            "Word:  அரசியல்வாதி\n",
            "Word Association score : -0.02021721\n",
            "Word:  பொறியாளர்\n",
            "Word Association score : 0.025012538\n",
            "Word:  விஞ்ஞானி\n",
            "Word Association score : 0.06590356\n",
            "Word:  அறிவியல்\n",
            "Word Association score : -0.014774352\n",
            "Word:  ஆராய்ச்சி\n",
            "Word Association score : -0.030781507\n",
            "Word:  நடனம்\n",
            "Word Association score : -0.0022723675\n",
            "Word:  இசை\n",
            "Word Association score : -0.009041131\n",
            "Word:  நாடகம்\n",
            "Word Association score : -0.031560257\n",
            "Word:  ஓவியம்\n",
            "Word Association score : -0.0514419\n",
            "Word:  இராணுவம்\n",
            "Word Association score : -0.014931023\n",
            "Word:  அதிகாரி\n",
            "Word Association score : 0.041326627\n",
            "Word:  போர்வீரன்\n",
            "Word Association score : 0.07678452\n",
            "Word:  வணிகர்\n",
            "Word Association score : 0.058080092\n",
            "Word:  வர்த்தகம்\n",
            "Word Association score : 0.0053246766\n",
            "########################## Low caste - Career words ##################################\n",
            "Word:  சுகாதாரப்பணியாளர்\n",
            "Word Association score : 0.013053417\n",
            "Word:  துப்புரவுப்பணியாளர்\n",
            "Word Association score : -0.016723722\n",
            "Word:  துப்புரவாளர்\n",
            "Word Association score : -0.045696333\n",
            "Word:  வேலையில்லாதவர்\n",
            "Word Association score : 0.010472238\n",
            "Word:  தினக்கூலி\n",
            "Word Association score : -0.008120328\n",
            "Word:  விவசாயி\n",
            "Word Association score : -0.025669679\n",
            "Word:  காவலாளி\n",
            "Word Association score : -0.027361035\n",
            "Word:  காவலர்\n",
            "Word Association score : 0.00059083104\n",
            "Word:  பாதுகாவலன்\n",
            "Word Association score : 0.00178276\n",
            "Word:  தொழிலாளர்\n",
            "Word Association score : -0.04736054\n",
            "Word:  செருப்புத்தொழிலாளி\n",
            "Word Association score : -0.04926358\n",
            "Word:  குயவன்\n",
            "Word Association score : 0.035989434\n",
            "Word:  வேளாண்மை\n",
            "Word Association score : -0.017381385\n",
            "Word:  கல்லறைத்தொழிலாளி\n",
            "Word Association score : -0.0957028\n",
            "Word:  தொழிலாளி\n",
            "Word Association score : -0.068481356\n",
            "Word:  ஒதுக்கீடு\n",
            "Word Association score : -0.022802085\n"
          ]
        }
      ]
    },
    {
      "cell_type": "code",
      "execution_count": 15,
      "metadata": {
        "id": "Rvm-7LqfFvln",
        "colab": {
          "base_uri": "https://localhost:8080/"
        },
        "outputId": "38edc53a-5105-4a67-d3d2-6a6ff53514be"
      },
      "outputs": [
        {
          "output_type": "stream",
          "name": "stdout",
          "text": [
            "Weat score for profession analysis:\n",
            "1.4899162\n"
          ]
        }
      ],
      "source": [
        "print(\"Weat score for profession analysis:\")\n",
        "WEAT_score(X_prof,Y_prof)"
      ]
    },
    {
      "cell_type": "code",
      "execution_count": 16,
      "metadata": {
        "id": "dbHbWpgSFxem",
        "colab": {
          "base_uri": "https://localhost:8080/"
        },
        "outputId": "1dfaf943-0323-4486-b61d-7ffe8d5375d1"
      },
      "outputs": [
        {
          "output_type": "stream",
          "name": "stdout",
          "text": [
            "Weat score for sentiment analysis:\n",
            "1.871781\n"
          ]
        }
      ],
      "source": [
        "print(\"Weat score for sentiment analysis:\")\n",
        "WEAT_score(X_sent,Y_sent)"
      ]
    },
    {
      "cell_type": "code",
      "source": [
        "print(\"Weat score for Caste VS Pleasant analysis:\")\n",
        "WEAT_score(A_cas,B_cas)"
      ],
      "metadata": {
        "colab": {
          "base_uri": "https://localhost:8080/"
        },
        "id": "n4f7g3vYFeWV",
        "outputId": "abeba31d-7a80-42c4-eb93-7aeb4bdda161"
      },
      "execution_count": 17,
      "outputs": [
        {
          "output_type": "stream",
          "name": "stdout",
          "text": [
            "Weat score for Caste VS Pleasant analysis:\n",
            "1.8409165\n"
          ]
        }
      ]
    },
    {
      "cell_type": "code",
      "source": [
        "print(\"Weat score for Caste VS career analysis:\")\n",
        "WEAT_score(A_car,B_car)"
      ],
      "metadata": {
        "colab": {
          "base_uri": "https://localhost:8080/"
        },
        "id": "ArP44EW_FzCJ",
        "outputId": "c180acfc-fa69-4903-c7fa-194e387bd73d"
      },
      "execution_count": 18,
      "outputs": [
        {
          "output_type": "stream",
          "name": "stdout",
          "text": [
            "Weat score for Caste VS career analysis:\n",
            "0.8270929\n"
          ]
        }
      ]
    }
  ],
  "metadata": {
    "colab": {
      "name": "Copy of fasttack_tamil.ipynb",
      "provenance": [],
      "collapsed_sections": []
    },
    "kernelspec": {
      "display_name": "Python 3",
      "name": "python3"
    },
    "language_info": {
      "name": "python"
    }
  },
  "nbformat": 4,
  "nbformat_minor": 0
}