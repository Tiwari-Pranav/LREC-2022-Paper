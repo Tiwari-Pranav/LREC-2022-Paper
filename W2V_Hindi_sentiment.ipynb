{
  "nbformat": 4,
  "nbformat_minor": 0,
  "metadata": {
    "colab": {
      "name": "W2V_Hindi_sentiment.ipynb",
      "provenance": []
    },
    "kernelspec": {
      "name": "python3",
      "display_name": "Python 3"
    },
    "language_info": {
      "name": "python"
    }
  },
  "cells": [
    {
      "cell_type": "code",
      "execution_count": null,
      "metadata": {
        "colab": {
          "base_uri": "https://localhost:8080/"
        },
        "id": "rRvJWLuIgiXK",
        "outputId": "0ebfacc3-472c-4d42-94d9-9ed693d47719"
      },
      "outputs": [
        {
          "output_type": "stream",
          "name": "stdout",
          "text": [
            "Collecting spicy\n",
            "  Downloading spicy-0.16.0-py2.py3-none-any.whl (1.7 kB)\n",
            "Requirement already satisfied: scipy in /usr/local/lib/python3.7/dist-packages (from spicy) (1.4.1)\n",
            "Requirement already satisfied: numpy>=1.13.3 in /usr/local/lib/python3.7/dist-packages (from scipy->spicy) (1.21.5)\n",
            "Installing collected packages: spicy\n",
            "Successfully installed spicy-0.16.0\n"
          ]
        }
      ],
      "source": [
        "!pip install spicy"
      ]
    },
    {
      "cell_type": "code",
      "source": [
        "import gensim\n",
        "import spicy\n",
        "import statistics\n",
        "import numpy as np\n",
        "from numpy import mean\n",
        "import random\n",
        "import urllib.request\n",
        "import pandas as pd\n",
        "import zipfile"
      ],
      "metadata": {
        "id": "APOBLYbpgk4B"
      },
      "execution_count": null,
      "outputs": []
    },
    {
      "cell_type": "code",
      "source": [
        "we_models = {\"Hindi\": \"http://vectors.nlpl.eu/repository/20/48.zip\"}"
      ],
      "metadata": {
        "id": "2sCObEXognsJ"
      },
      "execution_count": null,
      "outputs": []
    },
    {
      "cell_type": "code",
      "source": [
        "def get_models(model_url, model_name, path_to_save = \"we_models\"):\n",
        "  model_path = path_to_save + model_name + \".zip\"\n",
        "  urllib.request.urlretrieve(model_url, model_path)\n",
        "\n",
        "for model_name, model_url in we_models.items():\n",
        "  get_models(model_url,model_name)"
      ],
      "metadata": {
        "id": "2K00SIiLgp0l"
      },
      "execution_count": null,
      "outputs": []
    },
    {
      "cell_type": "code",
      "source": [
        "with zipfile.ZipFile(\"we_modelsHindi.zip\", 'r') as zip_ref:\n",
        "  zip_ref.extractall(\"we_modelsHindi\")"
      ],
      "metadata": {
        "id": "qW25mDfQgr9S"
      },
      "execution_count": null,
      "outputs": []
    },
    {
      "cell_type": "code",
      "source": [
        "def open_model(model_name, model_path, is_fasttext = False):\n",
        "  if is_fasttext == False:\n",
        "    model_file = \"we_modelsHindi.zip\" #model_path + model_name + \".zip\"\n",
        "    with zipfile.ZipFile(model_file, 'r') as archive:\n",
        "      stream = archive.open('model.bin')\n",
        "      model = gensim.models.KeyedVectors.load_word2vec_format(stream, binary=True)\n",
        "  else:\n",
        "    model_file = model_path + model_name\n",
        "    model = gensim.models.KeyedVectors.load(model_file + \"model.model\") \n",
        "  return model"
      ],
      "metadata": {
        "id": "AsHqSfXAgvJq"
      },
      "execution_count": null,
      "outputs": []
    },
    {
      "cell_type": "code",
      "source": [
        "m = open_model(\"Hindi\",\"http://vectors.nlpl.eu/repository/20/48.zip\")   #model"
      ],
      "metadata": {
        "id": "BHUYMKwXgxSo"
      },
      "execution_count": null,
      "outputs": []
    },
    {
      "cell_type": "code",
      "source": [
        "male_terms = [\"लड़का\",\"भाई\",\"बेटा\",\"नर\",\"पिता\",\"पापा\",\"दादा\",\"चाचा\"]\n",
        "female_terms = [\"लड़की\",\"बहन\",\"बेटी\",\"महिला\",\"मां\",\"माता\",\"दादा\",\"चाची\"]"
      ],
      "metadata": {
        "id": "OQ1KfbH_g0YZ"
      },
      "execution_count": null,
      "outputs": []
    },
    {
      "cell_type": "code",
      "source": [
        "def cosine_vectors(v1, v2):\n",
        "  v1=v1 / np.linalg.norm(v1)\n",
        "  v2=v2 / np.linalg.norm(v2)\n",
        "  return np.dot(v1,v2)\n",
        "\n",
        "def Word_association_score(w, A, B):        \n",
        "  w_a_sim, w_b_sim = 0 ,0\n",
        "  for i in range(len(A)):\n",
        "    w_a_sim += cosine_vectors(m[w], m[A[i]])\n",
        "    w_b_sim += cosine_vectors(m[w], m[B[i]])\n",
        "  return w_a_sim/len(A) - w_b_sim/len(B)\n",
        "\n",
        "def WEAT_score(x,y):\n",
        "  a= np.array([x,y])\n",
        "  np.std(a)\n",
        "\n",
        "  d= (np.mean(x) - np.mean(y))/np.std(a)\n",
        "  print(d)"
      ],
      "metadata": {
        "id": "_LuhudA8g3WK"
      },
      "execution_count": null,
      "outputs": []
    },
    {
      "cell_type": "code",
      "source": [
        "X_sentiment = [\"श्रम\",\"हमला\",\"लड़ाई\",\"कसरत\",\"ताकत\"]\n",
        "Y_sentiment = [\"शादी\",\"तलाक\",\"रोना\",\"प्यार\",\"सुंदरता\"]\n",
        "X_sent = []\n",
        "Y_sent = []\n",
        "n = 5\n",
        "for i in X_sentiment:\n",
        "  print(\"Word: \", i)\n",
        "  X_sent.append(Word_association_score(i,male_terms, female_terms))\n",
        "  print(\"Word Association score :\", Word_association_score(i,male_terms, female_terms))  \n",
        "for i in Y_sentiment:\n",
        "  print(\"Word: \", i)\n",
        "  Y_sent.append(Word_association_score(i,male_terms, female_terms))\n",
        "  print(\"Word Association score :\", Word_association_score(i,male_terms, female_terms))"
      ],
      "metadata": {
        "colab": {
          "base_uri": "https://localhost:8080/"
        },
        "id": "k0ncqhCYg6RA",
        "outputId": "966d57ee-46c8-4b36-9174-bf7a67cc066a"
      },
      "execution_count": null,
      "outputs": [
        {
          "output_type": "stream",
          "name": "stdout",
          "text": [
            "Word:  श्रम\n",
            "Word Association score : -0.015127865597605705\n",
            "Word:  हमला\n",
            "Word Association score : -0.0005111545324325562\n",
            "Word:  लड़ाई\n",
            "Word Association score : -0.014819804579019547\n",
            "Word:  कसरत\n",
            "Word Association score : -0.013041235506534576\n",
            "Word:  ताकत\n",
            "Word Association score : -0.07060490176081657\n",
            "Word:  शादी\n",
            "Word Association score : -0.09596448764204979\n",
            "Word:  तलाक\n",
            "Word Association score : -0.06646779738366604\n",
            "Word:  रोना\n",
            "Word Association score : 0.036109376698732376\n",
            "Word:  प्यार\n",
            "Word Association score : -0.014137361198663712\n",
            "Word:  सुंदरता\n",
            "Word Association score : -0.07171419076621532\n"
          ]
        }
      ]
    },
    {
      "cell_type": "code",
      "source": [
        "WEAT_score(X_sent,Y_sent)"
      ],
      "metadata": {
        "colab": {
          "base_uri": "https://localhost:8080/"
        },
        "id": "y4_NTUTYhBnt",
        "outputId": "04c2c4c4-a971-4c1e-f2de-356210d55dec"
      },
      "execution_count": null,
      "outputs": [
        {
          "output_type": "stream",
          "name": "stdout",
          "text": [
            "0.5025593555104882\n"
          ]
        }
      ]
    }
  ]
}