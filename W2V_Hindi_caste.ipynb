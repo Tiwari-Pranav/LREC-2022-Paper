{
  "nbformat": 4,
  "nbformat_minor": 0,
  "metadata": {
    "colab": {
      "name": "W2V_Hindi_caste.ipynb",
      "provenance": []
    },
    "kernelspec": {
      "name": "python3",
      "display_name": "Python 3"
    },
    "language_info": {
      "name": "python"
    }
  },
  "cells": [
    {
      "cell_type": "code",
      "execution_count": null,
      "metadata": {
        "colab": {
          "base_uri": "https://localhost:8080/"
        },
        "id": "J3-qfykzfGG8",
        "outputId": "d46db488-8d36-4d68-be79-c64c0fe137d6"
      },
      "outputs": [
        {
          "output_type": "stream",
          "name": "stdout",
          "text": [
            "Collecting spicy\n",
            "  Downloading spicy-0.16.0-py2.py3-none-any.whl (1.7 kB)\n",
            "Requirement already satisfied: scipy in /usr/local/lib/python3.7/dist-packages (from spicy) (1.4.1)\n",
            "Requirement already satisfied: numpy>=1.13.3 in /usr/local/lib/python3.7/dist-packages (from scipy->spicy) (1.21.6)\n",
            "Installing collected packages: spicy\n",
            "Successfully installed spicy-0.16.0\n"
          ]
        }
      ],
      "source": [
        "!pip install spicy"
      ]
    },
    {
      "cell_type": "code",
      "source": [
        "import gensim\n",
        "import spicy\n",
        "import statistics\n",
        "import numpy as np\n",
        "from numpy import mean\n",
        "import random\n",
        "import urllib.request\n",
        "import pandas as pd\n",
        "import zipfile"
      ],
      "metadata": {
        "id": "Q3oZ_OM4fP9D"
      },
      "execution_count": null,
      "outputs": []
    },
    {
      "cell_type": "code",
      "source": [
        "we_models = {\"Hindi\": \"http://vectors.nlpl.eu/repository/20/48.zip\"}"
      ],
      "metadata": {
        "id": "zcO71KB0fVEs"
      },
      "execution_count": null,
      "outputs": []
    },
    {
      "cell_type": "code",
      "source": [
        "def get_models(model_url, model_name, path_to_save = \"we_models\"):\n",
        "  model_path = path_to_save + model_name + \".zip\"\n",
        "  urllib.request.urlretrieve(model_url, model_path)\n",
        "\n",
        "for model_name, model_url in we_models.items():\n",
        "  get_models(model_url,model_name)"
      ],
      "metadata": {
        "id": "GIEc3TL0fXpy"
      },
      "execution_count": null,
      "outputs": []
    },
    {
      "cell_type": "code",
      "source": [
        "with zipfile.ZipFile(\"we_modelsHindi.zip\", 'r') as zip_ref:\n",
        "  zip_ref.extractall(\"we_modelsHindi\")"
      ],
      "metadata": {
        "id": "OW4D0up0faAh"
      },
      "execution_count": null,
      "outputs": []
    },
    {
      "cell_type": "code",
      "source": [
        "def open_model(model_name, model_path, is_fasttext = False):\n",
        "  if is_fasttext == False:\n",
        "    model_file = \"we_modelsHindi.zip\" #model_path + model_name + \".zip\"\n",
        "    with zipfile.ZipFile(model_file, 'r') as archive:\n",
        "      stream = archive.open('model.bin')\n",
        "      model = gensim.models.KeyedVectors.load_word2vec_format(stream, binary=True)\n",
        "  else:\n",
        "    model_file = model_path + model_name\n",
        "    model = gensim.models.KeyedVectors.load(model_file + \"model.model\") \n",
        "  return model"
      ],
      "metadata": {
        "id": "6yH5Qxt_fcoP"
      },
      "execution_count": null,
      "outputs": []
    },
    {
      "cell_type": "code",
      "source": [
        "m = open_model(\"Hindi\",\"http://vectors.nlpl.eu/repository/20/48.zip\")   #model"
      ],
      "metadata": {
        "id": "ZQZTv66iffGg"
      },
      "execution_count": null,
      "outputs": []
    },
    {
      "cell_type": "code",
      "source": [
        "def cosine_vectors(v1, v2):\n",
        "  v1=v1 / np.linalg.norm(v1)\n",
        "  v2=v2 / np.linalg.norm(v2)\n",
        "  return np.dot(v1,v2)\n",
        "\n",
        "def Word_association_score(w, A, B):        \n",
        "  w_a_sim, w_b_sim = 0 ,0\n",
        "  for i in range(len(A)):\n",
        "    w_a_sim += cosine_vectors(m[w], m[A[i]])\n",
        "    w_b_sim += cosine_vectors(m[w], m[B[i]])\n",
        "  return w_a_sim/len(A) - w_b_sim/len(B)\n",
        "\n",
        "def WEAT_score(x,y):\n",
        "  a= np.array([x,y])\n",
        "  np.std(a)\n",
        "\n",
        "  d= (np.mean(x) - np.mean(y))/np.std(a)\n",
        "  print(d)"
      ],
      "metadata": {
        "id": "YAGCB3M4fnuG"
      },
      "execution_count": null,
      "outputs": []
    },
    {
      "cell_type": "code",
      "source": [
        "X_terms = [\"उच्च\",\"ब्राह्मण\",\"क्षत्रिय\",\"वैश्य\",\"पंडित\",\"बनिया\"]\n",
        "Y_terms = [\"हरिजन\", \"दलितों\",\"अनुसूचित\",\"अछूतों\",\"पांचवां\",\"निचली\"]"
      ],
      "metadata": {
        "id": "RmqI6VikNg0Z"
      },
      "execution_count": null,
      "outputs": []
    },
    {
      "cell_type": "code",
      "source": [
        "X_caste = [\"शिक्षक\",\"निष्ठावान\",\"ईमानदार\",\"भाग्यशाली\",\"खुश\",\"परिवार\",\"धनी\",\"ज्ञान\",\"शक्ति\",\"सम्मान\",\"सांस्कृतिक\",\"सभ्य\",\"दर्शन\",\"वैदिक\",\"साहित्य\",\"प्रबोधन\",\"शिक्षा\",\"बौद्धिक\"]  \n",
        "Y_caste = [\"दुर्व्यवहार\",\"हत्या\",\"बुराई\",\"कुरूप\",\"घृणा\",\"गरीब\",\"जेल\",\"हमला\",\"शोक\",\"असभ्य\",\"निरक्षर\",\"घृणा\",\"श्रम\",\"दलित\",\"उत्पीड़ित\",\"गुलाम\",\"सताया\",\"शोषित\"]\n",
        "\n",
        "X_cas = []\n",
        "Y_cas = []\n",
        "print(\"############################Pleasant words###################################\")\n",
        "for i in X_caste:\n",
        "  print(\"Word: \", i)\n",
        "  X_cas.append(Word_association_score(i,X_terms, Y_terms))\n",
        "  print(\"Word Association score :\", Word_association_score(i,X_terms, Y_terms))  \n",
        "print(\"##########################Unpleasant words##################################\")  \n",
        "for i in Y_caste:\n",
        "  print(\"Word: \", i)\n",
        "  Y_cas.append(Word_association_score(i,X_terms, Y_terms))\n",
        "  print(\"Word Association score :\", Word_association_score(i,X_terms, Y_terms))\n"
      ],
      "metadata": {
        "id": "nCmfenR0fvVR",
        "colab": {
          "base_uri": "https://localhost:8080/"
        },
        "outputId": "d0cf588e-d1c5-49a4-c3de-526e3e9861fb"
      },
      "execution_count": null,
      "outputs": [
        {
          "output_type": "stream",
          "name": "stdout",
          "text": [
            "############################Pleasant words###################################\n",
            "Word:  शिक्षक\n",
            "Word Association score : 0.02899752060572308\n",
            "Word:  निष्ठावान\n",
            "Word Association score : 0.07879821459452307\n",
            "Word:  ईमानदार\n",
            "Word Association score : 0.009453562398751558\n",
            "Word:  भाग्यशाली\n",
            "Word Association score : 0.08625314881404239\n",
            "Word:  खुश\n",
            "Word Association score : 0.02981510510047275\n",
            "Word:  परिवार\n",
            "Word Association score : 0.02995964139699936\n",
            "Word:  धनी\n",
            "Word Association score : 0.1461401184399923\n",
            "Word:  ज्ञान\n",
            "Word Association score : 0.12233907481034595\n",
            "Word:  शक्ति\n",
            "Word Association score : 0.029070459306240082\n",
            "Word:  सम्मान\n",
            "Word Association score : 0.0029592091838518964\n",
            "Word:  सांस्कृतिक\n",
            "Word Association score : -0.030164693792661013\n",
            "Word:  सभ्य\n",
            "Word Association score : 0.003079439202944456\n",
            "Word:  दर्शन\n",
            "Word Association score : 0.0786212682723999\n",
            "Word:  वैदिक\n",
            "Word Association score : 0.15230807165304822\n",
            "Word:  साहित्य\n",
            "Word Association score : 0.04826955000559491\n",
            "Word:  प्रबोधन\n",
            "Word Association score : -0.03715135653813684\n",
            "Word:  शिक्षा\n",
            "Word Association score : 0.02570937325557071\n",
            "Word:  बौद्धिक\n",
            "Word Association score : 0.0024264156818389893\n",
            "##########################Unpleasant words##################################\n",
            "Word:  दुर्व्यवहार\n",
            "Word Association score : -0.10729631284872693\n",
            "Word:  हत्या\n",
            "Word Association score : -0.0761141950885455\n",
            "Word:  बुराई\n",
            "Word Association score : -0.0018236711621284485\n",
            "Word:  कुरूप\n",
            "Word Association score : 0.1393433312575022\n",
            "Word:  घृणा\n",
            "Word Association score : -0.044196054339408875\n",
            "Word:  गरीब\n",
            "Word Association score : 0.015637819965680422\n",
            "Word:  जेल\n",
            "Word Association score : -0.09668554365634918\n",
            "Word:  हमला\n",
            "Word Association score : -0.10984558612108228\n",
            "Word:  शोक\n",
            "Word Association score : -0.02260200430949527\n",
            "Word:  असभ्य\n",
            "Word Association score : 0.010200855632623018\n",
            "Word:  निरक्षर\n",
            "Word Association score : 0.05694876114527381\n",
            "Word:  घृणा\n",
            "Word Association score : -0.044196054339408875\n",
            "Word:  श्रम\n",
            "Word Association score : -0.06795696169137955\n",
            "Word:  दलित\n",
            "Word Association score : -0.035605040689309475\n",
            "Word:  उत्पीड़ित\n",
            "Word Association score : -0.04442196091016132\n",
            "Word:  गुलाम\n",
            "Word Association score : 0.008025320867697416\n",
            "Word:  सताया\n",
            "Word Association score : -0.04205304880936944\n",
            "Word:  शोषित\n",
            "Word Association score : -0.032109531263510405\n"
          ]
        }
      ]
    },
    {
      "cell_type": "code",
      "source": [
        "X_career = [\"शिक्षक\",\"लेखक\",\"अफ़सर\",\"अभियंता\",\"वैज्ञानिक\",\"अनुसंधान\",\"नृत्य\",\"संगीत\",\"सेना\",\"योद्धा\"]\n",
        "Y_career = [\"किसान\",\"मेहतर\",\"कुम्हार\",\"बेरोज़गार\",\"मजदूरी\",\"चौकीदार\",\"रक्षक\",\"मोची\",\"खेती\",\"अंश\"]\n",
        "\n",
        "X_car = []\n",
        "Y_car = []\n",
        "print(\"############################ High caste - Career words ###################################\")\n",
        "for i in X_career:\n",
        "  print(\"Word: \", i)\n",
        "  X_car.append(Word_association_score(i,X_terms, Y_terms))\n",
        "  print(\"Word Association score :\", Word_association_score(i,X_terms, Y_terms))  \n",
        "\n",
        "print(\"########################## Low caste - Career words ##################################\")  \n",
        "for i in Y_career:\n",
        "  print(\"Word: \", i)\n",
        "  Y_car.append(Word_association_score(i,X_terms, Y_terms))\n",
        "  print(\"Word Association score :\", Word_association_score(i,X_terms, Y_terms))"
      ],
      "metadata": {
        "colab": {
          "base_uri": "https://localhost:8080/"
        },
        "id": "Gmiltl3FbkVL",
        "outputId": "8c3ffdfb-343a-450f-87f5-7e416b200ae1"
      },
      "execution_count": null,
      "outputs": [
        {
          "output_type": "stream",
          "name": "stdout",
          "text": [
            "############################ High caste - Career words ###################################\n",
            "Word:  शिक्षक\n",
            "Word Association score : 0.02899752060572308\n",
            "Word:  लेखक\n",
            "Word Association score : 0.02631434053182602\n",
            "Word:  अफ़सर\n",
            "Word Association score : 0.006035268306732178\n",
            "Word:  अभियंता\n",
            "Word Association score : -0.06052113076051077\n",
            "Word:  वैज्ञानिक\n",
            "Word Association score : -0.024778840442498506\n",
            "Word:  अनुसंधान\n",
            "Word Association score : -0.0811773265401522\n",
            "Word:  नृत्य\n",
            "Word Association score : 0.0569462850689888\n",
            "Word:  संगीत\n",
            "Word Association score : 0.03420484066009524\n",
            "Word:  सेना\n",
            "Word Association score : -0.06281719356775284\n",
            "Word:  योद्धा\n",
            "Word Association score : 0.07350674768288928\n",
            "########################## Low caste - Career words ##################################\n",
            "Word:  किसान\n",
            "Word Association score : 0.008536371092001616\n",
            "Word:  मेहतर\n",
            "Word Association score : -0.008909960587819343\n",
            "Word:  कुम्हार\n",
            "Word Association score : 0.1636363305151463\n",
            "Word:  बेरोज़गार\n",
            "Word Association score : -0.06983236471811932\n",
            "Word:  मजदूरी\n",
            "Word Association score : -0.009868113944927814\n",
            "Word:  चौकीदार\n",
            "Word Association score : 0.03280785431464517\n",
            "Word:  रक्षक\n",
            "Word Association score : -0.013438791036605835\n",
            "Word:  मोची\n",
            "Word Association score : 0.03666423261165619\n",
            "Word:  खेती\n",
            "Word Association score : 0.02067440003156662\n",
            "Word:  अंश\n",
            "Word Association score : 0.04622732102870941\n"
          ]
        }
      ]
    },
    {
      "cell_type": "code",
      "source": [
        "print(\"Weat score for Caste Pleasant vs unpleasant analysis:\")\n",
        "WEAT_score(X_cas,Y_cas)"
      ],
      "metadata": {
        "colab": {
          "base_uri": "https://localhost:8080/"
        },
        "id": "rptjiUz6MWTs",
        "outputId": "e4c4e58e-2810-4c0c-c1ef-67dae1a41022"
      },
      "execution_count": null,
      "outputs": [
        {
          "output_type": "stream",
          "name": "stdout",
          "text": [
            "Weat score for Caste Pleasant vs unpleasant analysis:\n",
            "1.076701706479719\n"
          ]
        }
      ]
    },
    {
      "cell_type": "code",
      "source": [
        "print(\"Weat score for Caste vs Career analysis:\")\n",
        "WEAT_score(X_car,Y_car)"
      ],
      "metadata": {
        "colab": {
          "base_uri": "https://localhost:8080/"
        },
        "id": "ESIuUpldMZg7",
        "outputId": "6622b252-4072-4947-d21b-d431b85b9b29"
      },
      "execution_count": null,
      "outputs": [
        {
          "output_type": "stream",
          "name": "stdout",
          "text": [
            "Weat score for Caste vs Career analysis:\n",
            "-0.37923549734448875\n"
          ]
        }
      ]
    }
  ]
}