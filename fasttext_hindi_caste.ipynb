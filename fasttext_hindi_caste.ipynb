{
  "nbformat": 4,
  "nbformat_minor": 0,
  "metadata": {
    "colab": {
      "name": "fasttext_hindi_caste.ipynb",
      "provenance": []
    },
    "kernelspec": {
      "name": "python3",
      "display_name": "Python 3"
    },
    "language_info": {
      "name": "python"
    }
  },
  "cells": [
    {
      "cell_type": "code",
      "execution_count": null,
      "metadata": {
        "id": "LcLVSw0FhqIE",
        "colab": {
          "base_uri": "https://localhost:8080/"
        },
        "outputId": "e12b67b0-270e-4018-88e5-9ea89256f468"
      },
      "outputs": [
        {
          "output_type": "stream",
          "name": "stdout",
          "text": [
            "Collecting fasttext\n",
            "  Downloading fasttext-0.9.2.tar.gz (68 kB)\n",
            "\u001b[?25l\r\u001b[K     |████▊                           | 10 kB 14.4 MB/s eta 0:00:01\r\u001b[K     |█████████▌                      | 20 kB 13.4 MB/s eta 0:00:01\r\u001b[K     |██████████████▎                 | 30 kB 9.2 MB/s eta 0:00:01\r\u001b[K     |███████████████████             | 40 kB 8.7 MB/s eta 0:00:01\r\u001b[K     |███████████████████████▉        | 51 kB 4.6 MB/s eta 0:00:01\r\u001b[K     |████████████████████████████▋   | 61 kB 5.4 MB/s eta 0:00:01\r\u001b[K     |████████████████████████████████| 68 kB 3.2 MB/s \n",
            "\u001b[?25hCollecting pybind11>=2.2\n",
            "  Using cached pybind11-2.9.2-py2.py3-none-any.whl (213 kB)\n",
            "Requirement already satisfied: setuptools>=0.7.0 in /usr/local/lib/python3.7/dist-packages (from fasttext) (57.4.0)\n",
            "Requirement already satisfied: numpy in /usr/local/lib/python3.7/dist-packages (from fasttext) (1.21.5)\n",
            "Building wheels for collected packages: fasttext\n",
            "  Building wheel for fasttext (setup.py) ... \u001b[?25l\u001b[?25hdone\n",
            "  Created wheel for fasttext: filename=fasttext-0.9.2-cp37-cp37m-linux_x86_64.whl size=3141948 sha256=23887b9524ff0183639ead1ac172b14d23549ac83d60fea30781799252b3b69f\n",
            "  Stored in directory: /root/.cache/pip/wheels/4e/ca/bf/b020d2be95f7641801a6597a29c8f4f19e38f9c02a345bab9b\n",
            "Successfully built fasttext\n",
            "Installing collected packages: pybind11, fasttext\n",
            "Successfully installed fasttext-0.9.2 pybind11-2.9.2\n"
          ]
        }
      ],
      "source": [
        "!pip install fasttext"
      ]
    },
    {
      "cell_type": "code",
      "source": [
        "import fasttext.util\n",
        "fasttext.util.download_model('hi', if_exists='ignore')  # Hindi\n",
        "ft = fasttext.load_model('cc.hi.300.bin')"
      ],
      "metadata": {
        "colab": {
          "base_uri": "https://localhost:8080/"
        },
        "id": "E497TIQrpZjN",
        "outputId": "e79db671-f94a-4f22-cadd-0a9ee7b386cb"
      },
      "execution_count": null,
      "outputs": [
        {
          "output_type": "stream",
          "name": "stdout",
          "text": [
            "Downloading https://dl.fbaipublicfiles.com/fasttext/vectors-crawl/cc.hi.300.bin.gz\n",
            "\n"
          ]
        },
        {
          "output_type": "stream",
          "name": "stderr",
          "text": [
            "Warning : `load_model` does not return WordVectorModel or SupervisedModel any more, but a `FastText` object which is very similar.\n"
          ]
        }
      ]
    },
    {
      "cell_type": "code",
      "source": [
        "ft.save_model('cc.hi.300.bin')"
      ],
      "metadata": {
        "id": "mt-vLsFKiRSq"
      },
      "execution_count": null,
      "outputs": []
    },
    {
      "cell_type": "code",
      "source": [
        "import numpy as np\n",
        "def encode(list):\n",
        "  output=[]\n",
        "  for i in list:\n",
        "    result=ft.get_word_vector(i)\n",
        "    output.append(result)\n",
        "  return np.array(output)"
      ],
      "metadata": {
        "id": "dRa25JSxq8y0"
      },
      "execution_count": null,
      "outputs": []
    },
    {
      "cell_type": "code",
      "source": [
        "import numpy as np\n",
        "from sympy.utilities.iterables import multiset_permutations\n",
        "\n",
        "\n",
        "def unit_vector(vec):\n",
        "    return vec / np.linalg.norm(vec)\n",
        "\n",
        "def cos_sim(v1, v2):\n",
        "    v1_u = unit_vector(v1)\n",
        "    v2_u = unit_vector(v2)\n",
        "    return v2.dot(v1)/ (np.linalg.norm(v2,axis=1) * np.linalg.norm(v1))\n",
        "\n",
        "def weat_association_score(W, A, B):\n",
        "    return np.mean(cos_sim(W, A), axis=-1) - np.mean(cos_sim(W, B), axis=-1)\n",
        "\n",
        "def WEAT_score(x,y):\n",
        "    a= np.array([x,y])\n",
        "    np.std(a)\n",
        "\n",
        "    d= (np.mean(x) - np.mean(y))/np.std(a)\n",
        "    print(d)   "
      ],
      "metadata": {
        "id": "nKch1rygiTWY"
      },
      "execution_count": null,
      "outputs": []
    },
    {
      "cell_type": "code",
      "source": [
        "A_terms = encode([\"उच्च\",\"ब्राह्मण\",\"क्षत्रिय\",\"वैश्य\",\"पंडित\",\"बनिया\"])\n",
        "B_terms = encode([\"हरिजन\",\"दलितों\",\"अनुसूचित\",\"अछूतों\",\"पांचवां\",\"निचली\"])"
      ],
      "metadata": {
        "id": "RmqI6VikNg0Z"
      },
      "execution_count": null,
      "outputs": []
    },
    {
      "cell_type": "code",
      "source": [
        "A_caste_mean = [\"शिक्षक\",\"निष्ठावान\",\"ईमानदार\",\"भाग्यशाली\",\"खुश\",\"परिवार\",\"धनी\",\"ज्ञान\",\"शक्ति\",\"सम्मान\",\"सांस्कृतिक\",\"सभ्य\",\"दर्शन\",\"वैदिक\",\"साहित्य\",\"प्रबोधन\",\"शिक्षा\",\"बौद्धिक\"]     #target words\n",
        "B_caste_mean = [\"दुर्व्यवहार\",\"हत्या\",\"बुराई\",\"कुरूप\",\"घृणा\",\"गरीब\",\"जेल\",\"हमला\",\"शोक\",\"असभ्य\",\"निरक्षर\",\"घृणा\",\"श्रम\",\"दलित\",\"उत्पीड़ित\",\"गुलाम\",\"सताया\",\"शोषित\"]"
      ],
      "metadata": {
        "id": "QJqh68z9whKK"
      },
      "execution_count": null,
      "outputs": []
    },
    {
      "cell_type": "code",
      "source": [
        "\n",
        "A_caste = encode([\"शिक्षक\",\"निष्ठावान\",\"ईमानदार\",\"भाग्यशाली\",\"खुश\",\"परिवार\",\"धनी\",\"ज्ञान\",\"शक्ति\",\"सम्मान\",\"सांस्कृतिक\",\"सभ्य\",\"दर्शन\",\"वैदिक\",\"साहित्य\",\"प्रबोधन\",\"शिक्षा\",\"बौद्धिक\"])\n",
        "B_caste = encode([\"दुर्व्यवहार\",\"हत्या\",\"बुराई\",\"कुरूप\",\"घृणा\",\"गरीब\",\"जेल\",\"हमला\",\"शोक\",\"असभ्य\",\"निरक्षर\",\"घृणा\",\"श्रम\",\"दलित\",\"उत्पीड़ित\",\"गुलाम\",\"सताया\",\"शोषित\"])\n",
        "\n",
        "A_cas = []\n",
        "B_cas = []\n",
        "print(\"############################Pleasant words###################################\")\n",
        "for i in range(0,len(A_caste)):\n",
        "  print(\"Word: \", A_caste_mean[i])\n",
        "  A_cas.append(weat_association_score(A_caste[i],A_terms, B_terms))\n",
        "  print(\"Word Association score :\", weat_association_score(A_caste[i],A_terms, B_terms))  \n",
        "print(\"###########################Unpleasant words###################################\")  \n",
        "for i in range(0,len(B_caste)):\n",
        "  print(\"Word: \", B_caste_mean[i])\n",
        "  B_cas.append(weat_association_score(B_caste[i],A_terms, B_terms))\n",
        "  print(\"Word Association score :\", weat_association_score(B_caste[i],A_terms, B_terms))\n",
        "\n"
      ],
      "metadata": {
        "id": "6_sDPvWsjYja",
        "colab": {
          "base_uri": "https://localhost:8080/"
        },
        "outputId": "26e255f3-f04d-4cb2-b577-146a5f310df6"
      },
      "execution_count": null,
      "outputs": [
        {
          "output_type": "stream",
          "name": "stdout",
          "text": [
            "############################Pleasant words###################################\n",
            "Word:  शिक्षक\n",
            "Word Association score : 0.064053625\n",
            "Word:  निष्ठावान\n",
            "Word Association score : 0.06604367\n",
            "Word:  ईमानदार\n",
            "Word Association score : 0.061702266\n",
            "Word:  भाग्यशाली\n",
            "Word Association score : 0.037683815\n",
            "Word:  खुश\n",
            "Word Association score : 0.054967336\n",
            "Word:  परिवार\n",
            "Word Association score : 0.08294694\n",
            "Word:  धनी\n",
            "Word Association score : 0.113020346\n",
            "Word:  ज्ञान\n",
            "Word Association score : 0.118607566\n",
            "Word:  शक्ति\n",
            "Word Association score : 0.09050466\n",
            "Word:  सम्मान\n",
            "Word Association score : 0.013431251\n",
            "Word:  सांस्कृतिक\n",
            "Word Association score : 0.0250756\n",
            "Word:  सभ्य\n",
            "Word Association score : 0.05855225\n",
            "Word:  दर्शन\n",
            "Word Association score : 0.0074441135\n",
            "Word:  वैदिक\n",
            "Word Association score : 0.122869596\n",
            "Word:  साहित्य\n",
            "Word Association score : 0.03884375\n",
            "Word:  प्रबोधन\n",
            "Word Association score : 0.011876844\n",
            "Word:  शिक्षा\n",
            "Word Association score : 0.034496307\n",
            "Word:  बौद्धिक\n",
            "Word Association score : 0.019561082\n",
            "###########################Unpleasant words###################################\n",
            "Word:  दुर्व्यवहार\n",
            "Word Association score : -0.053852215\n",
            "Word:  हत्या\n",
            "Word Association score : -0.031325847\n",
            "Word:  बुराई\n",
            "Word Association score : 0.00033907592\n",
            "Word:  कुरूप\n",
            "Word Association score : 0.02267187\n",
            "Word:  घृणा\n",
            "Word Association score : -0.04230901\n",
            "Word:  गरीब\n",
            "Word Association score : 0.015182078\n",
            "Word:  जेल\n",
            "Word Association score : -0.061968394\n",
            "Word:  हमला\n",
            "Word Association score : -0.05467982\n",
            "Word:  शोक\n",
            "Word Association score : 0.023524642\n",
            "Word:  असभ्य\n",
            "Word Association score : -0.027456045\n",
            "Word:  निरक्षर\n",
            "Word Association score : -0.026699483\n",
            "Word:  घृणा\n",
            "Word Association score : -0.04230901\n",
            "Word:  श्रम\n",
            "Word Association score : 0.03957823\n",
            "Word:  दलित\n",
            "Word Association score : -0.093464464\n",
            "Word:  उत्पीड़ित\n",
            "Word Association score : -0.066060364\n",
            "Word:  गुलाम\n",
            "Word Association score : -0.0024641752\n",
            "Word:  सताया\n",
            "Word Association score : -0.06801343\n",
            "Word:  शोषित\n",
            "Word Association score : -0.09300576\n"
          ]
        }
      ]
    },
    {
      "cell_type": "code",
      "source": [
        "A_career_mean = [\"शिक्षक\",\"लेखक\",\"अफ़सर\",\"अभियंता\",\"वैज्ञानिक\",\"अनुसंधान\",\"नृत्य\",\"संगीत\",\"सेना\",\"योद्धा\"]\n",
        "B_career_mean = [\"किसान\",\"मेहतर\",\"कुम्हार\",\"बेरोज़गार\",\"मजदूरी\",\"चौकीदार\",\"रक्षक\",\"मोची\",\"खेती\",\"अंश\"]"
      ],
      "metadata": {
        "id": "x5bDxk6mpctD"
      },
      "execution_count": null,
      "outputs": []
    },
    {
      "cell_type": "code",
      "source": [
        "A_career = encode([\"शिक्षक\",\"लेखक\",\"अफ़सर\",\"अभियंता\",\"वैज्ञानिक\",\"अनुसंधान\",\"नृत्य\",\"संगीत\",\"सेना\",\"योद्धा\"])\n",
        "B_career = encode([\"किसान\",\"मेहतर\",\"कुम्हार\",\"बेरोज़गार\",\"मजदूरी\",\"चौकीदार\",\"रक्षक\",\"मोची\",\"खेती\",\"अंश\"])\n",
        "\n",
        "A_car = []\n",
        "B_car = []\n",
        "print(\"############################ High caste - Career words ###################################\")\n",
        "for i in range(0,len(A_career)):\n",
        "  print(\"Word: \", A_career_mean[i])\n",
        "  A_car.append(weat_association_score(A_career[i],A_terms, B_terms))\n",
        "  print(\"Word Association score :\", weat_association_score(A_career[i],A_terms, B_terms))  \n",
        "print(\"########################## Low caste - Career words ##################################\")  \n",
        "for i in range(0,len(B_career)):\n",
        "  print(\"Word: \", B_career_mean[i])\n",
        "  B_car.append(weat_association_score(B_career[i],A_terms, B_terms))\n",
        "  print(\"Word Association score :\", weat_association_score(B_career[i],A_terms, B_terms))"
      ],
      "metadata": {
        "colab": {
          "base_uri": "https://localhost:8080/"
        },
        "id": "WBVkhg4BptCk",
        "outputId": "cabe628a-c7de-418d-a5e2-27b9b233fb84"
      },
      "execution_count": null,
      "outputs": [
        {
          "output_type": "stream",
          "name": "stdout",
          "text": [
            "############################ High caste - Career words ###################################\n",
            "Word:  शिक्षक\n",
            "Word Association score : 0.064053625\n",
            "Word:  लेखक\n",
            "Word Association score : 0.03695786\n",
            "Word:  अफ़सर\n",
            "Word Association score : 0.07598223\n",
            "Word:  अभियंता\n",
            "Word Association score : 0.07545678\n",
            "Word:  वैज्ञानिक\n",
            "Word Association score : 0.06283938\n",
            "Word:  अनुसंधान\n",
            "Word Association score : 0.03901902\n",
            "Word:  नृत्य\n",
            "Word Association score : 0.0237713\n",
            "Word:  संगीत\n",
            "Word Association score : 0.058501646\n",
            "Word:  सेना\n",
            "Word Association score : 0.036283463\n",
            "Word:  योद्धा\n",
            "Word Association score : 0.09986052\n",
            "########################## Low caste - Career words ##################################\n",
            "Word:  किसान\n",
            "Word Association score : 0.06927277\n",
            "Word:  मेहतर\n",
            "Word Association score : 0.0013094246\n",
            "Word:  कुम्हार\n",
            "Word Association score : 0.0824056\n",
            "Word:  बेरोज़गार\n",
            "Word Association score : -0.010230079\n",
            "Word:  मजदूरी\n",
            "Word Association score : -0.028836384\n",
            "Word:  चौकीदार\n",
            "Word Association score : 0.015649267\n",
            "Word:  रक्षक\n",
            "Word Association score : 0.04206164\n",
            "Word:  मोची\n",
            "Word Association score : 0.031371832\n",
            "Word:  खेती\n",
            "Word Association score : 0.034194097\n",
            "Word:  अंश\n",
            "Word Association score : 0.01932843\n"
          ]
        }
      ]
    },
    {
      "cell_type": "code",
      "source": [
        "print(\"Weat score for Caste Pleasant vs unpleasant analysis:\")\n",
        "WEAT_score(A_cas,B_cas)"
      ],
      "metadata": {
        "id": "1WNkyrgqxr4V",
        "colab": {
          "base_uri": "https://localhost:8080/"
        },
        "outputId": "3bd524b3-9f88-40b0-b20f-0d6c36ed6164"
      },
      "execution_count": null,
      "outputs": [
        {
          "output_type": "stream",
          "name": "stdout",
          "text": [
            "Weat score for Caste Pleasant vs unpleasant analysis:\n",
            "1.5217851\n"
          ]
        }
      ]
    },
    {
      "cell_type": "code",
      "source": [
        "print(\"Weat score for Caste vs Career analysis:\")\n",
        "WEAT_score(A_car,B_car)"
      ],
      "metadata": {
        "colab": {
          "base_uri": "https://localhost:8080/"
        },
        "id": "mcVbBO-7MZHP",
        "outputId": "f328f7de-7710-409d-f8b0-a45346d7b7f7"
      },
      "execution_count": null,
      "outputs": [
        {
          "output_type": "stream",
          "name": "stdout",
          "text": [
            "Weat score for Caste vs Career analysis:\n",
            "0.9908211\n"
          ]
        }
      ]
    }
  ]
}