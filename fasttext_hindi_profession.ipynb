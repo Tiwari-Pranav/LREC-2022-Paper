{
  "nbformat": 4,
  "nbformat_minor": 0,
  "metadata": {
    "colab": {
      "name": "fasttext_hindi_profession.ipynb",
      "provenance": [],
      "collapsed_sections": []
    },
    "kernelspec": {
      "name": "python3",
      "display_name": "Python 3"
    },
    "language_info": {
      "name": "python"
    }
  },
  "cells": [
    {
      "cell_type": "code",
      "execution_count": null,
      "metadata": {
        "id": "LcLVSw0FhqIE",
        "colab": {
          "base_uri": "https://localhost:8080/"
        },
        "outputId": "12ba2368-1676-4082-a8e6-468922d861ef"
      },
      "outputs": [
        {
          "output_type": "stream",
          "name": "stdout",
          "text": [
            "Requirement already satisfied: fasttext in /usr/local/lib/python3.7/dist-packages (0.9.2)\n",
            "Requirement already satisfied: setuptools>=0.7.0 in /usr/local/lib/python3.7/dist-packages (from fasttext) (57.4.0)\n",
            "Requirement already satisfied: pybind11>=2.2 in /usr/local/lib/python3.7/dist-packages (from fasttext) (2.9.2)\n",
            "Requirement already satisfied: numpy in /usr/local/lib/python3.7/dist-packages (from fasttext) (1.21.5)\n"
          ]
        }
      ],
      "source": [
        "!pip install fasttext"
      ]
    },
    {
      "cell_type": "code",
      "source": [
        "import fasttext.util\n",
        "fasttext.util.download_model('hi', if_exists='ignore')  # Hindi\n",
        "ft = fasttext.load_model('cc.hi.300.bin')"
      ],
      "metadata": {
        "colab": {
          "base_uri": "https://localhost:8080/"
        },
        "id": "3TnBpaHgiPKi",
        "outputId": "081a3eca-538d-4954-ccb9-d8d87782edd6"
      },
      "execution_count": null,
      "outputs": [
        {
          "output_type": "stream",
          "name": "stdout",
          "text": [
            "Downloading https://dl.fbaipublicfiles.com/fasttext/vectors-crawl/cc.hi.300.bin.gz\n",
            "\n"
          ]
        },
        {
          "output_type": "stream",
          "name": "stderr",
          "text": [
            "Warning : `load_model` does not return WordVectorModel or SupervisedModel any more, but a `FastText` object which is very similar.\n"
          ]
        }
      ]
    },
    {
      "cell_type": "code",
      "source": [
        "ft.save_model('cc.hi.300.bin')"
      ],
      "metadata": {
        "id": "mt-vLsFKiRSq"
      },
      "execution_count": null,
      "outputs": []
    },
    {
      "cell_type": "code",
      "source": [
        "import numpy as np\n",
        "def encode(list):\n",
        "  output=[]\n",
        "  for i in list:\n",
        "    result=ft.get_word_vector(i)\n",
        "    output.append(result)\n",
        "  return np.array(output)"
      ],
      "metadata": {
        "id": "dRa25JSxq8y0"
      },
      "execution_count": null,
      "outputs": []
    },
    {
      "cell_type": "code",
      "source": [
        "import numpy as np\n",
        "from sympy.utilities.iterables import multiset_permutations\n",
        "\n",
        "\n",
        "def unit_vector(vec):\n",
        "    return vec / np.linalg.norm(vec)\n",
        "\n",
        "def cos_sim(v1, v2):\n",
        "    v1_u = unit_vector(v1)\n",
        "    v2_u = unit_vector(v2)\n",
        "    return v2.dot(v1)/ (np.linalg.norm(v2,axis=1) * np.linalg.norm(v1))\n",
        "\n",
        "def weat_association_score(W, A, B):\n",
        "    return np.mean(cos_sim(W, A), axis=-1) - np.mean(cos_sim(W, B), axis=-1)\n",
        "\n",
        "def WEAT_score(x,y):\n",
        "    a= np.array([x,y])\n",
        "    np.std(a)\n",
        "\n",
        "    d= (np.mean(x) - np.mean(y))/np.std(a)\n",
        "    print(d)   "
      ],
      "metadata": {
        "id": "nKch1rygiTWY"
      },
      "execution_count": null,
      "outputs": []
    },
    {
      "cell_type": "code",
      "source": [
        "male_terms = encode([\"लड़का\",\"भाई\",\"बेटा\", \"आदमी\", \"नर\",\"चाचा\",\"पिता\",\"पापा\",\"दादा\",\"पुरुष\"])\n",
        "female_terms = encode([\"लड़की\",\"बहन\",\"बेटी\", \"औरत\",\"नारी\",\"चाची\", \"माता\",\"मां\",\"दादी\",\"स्री\"])"
      ],
      "metadata": {
        "id": "DbpLluCcj5yg"
      },
      "execution_count": null,
      "outputs": []
    },
    {
      "cell_type": "code",
      "source": [
        "X_profession_mean = [\"अफ़सर\",\"सेनाध्यक्ष\",\"शिकारी\",\"सैनिक\",\"राजनीतिज्ञ\"]\n",
        "Y_profession_mean = [\"नर्स\",\"बाई\",\"शिल्पी\",\"रसोइया\",\"दाई\"]"
      ],
      "metadata": {
        "id": "QJqh68z9whKK"
      },
      "execution_count": null,
      "outputs": []
    },
    {
      "cell_type": "code",
      "source": [
        "X_sentiment_mean = [\"श्रम\",\"हमला\",\"मुकाबला\",\"कसरत\",\"घायल\"]\n",
        "Y_sentiment_mean = [\"शादी\",\"तलाक\",\"परिपक्व\",\"प्यार\",\"सुंदरता\"]"
      ],
      "metadata": {
        "id": "sBHAVUNBA-4w"
      },
      "execution_count": null,
      "outputs": []
    },
    {
      "cell_type": "code",
      "source": [
        "\n",
        "X_profession = encode([\"अफ़सर\",\"सेनाध्यक्ष\",\"शिकारी\",\"सैनिक\",\"राजनीतिज्ञ\"])\n",
        "Y_profession = encode([\"नर्स\",\"बाई\",\"शिल्पी\",\"रसोइया\",\"दाई\"])\n",
        "X_sentiment = encode([\"श्रम\",\"हमला\",\"मुकाबला\",\"कसरत\",\"घायल\"])\n",
        "Y_sentiment = encode([\"शादी\",\"तलाक\",\"परिपक्व\",\"प्यार\",\"सुंदरता\"])\n",
        "\n",
        "X_prof = []\n",
        "Y_prof = []\n",
        "n = 5\n",
        "for i in range(0,len(X_profession)):\n",
        "  print(\"Word: \", X_profession_mean[i])\n",
        "  X_prof.append(weat_association_score(X_profession[i],male_terms, female_terms))\n",
        "  print(\"Word Association score :\", weat_association_score(X_profession[i],male_terms, female_terms))  \n",
        "for i in range(0,len(Y_profession)):\n",
        "  print(\"Word: \", Y_profession_mean[i])\n",
        "  Y_prof.append(weat_association_score(Y_profession[i],male_terms, female_terms))\n",
        "  print(\"Word Association score :\", weat_association_score(Y_profession[i],male_terms, female_terms))\n",
        "\n"
      ],
      "metadata": {
        "id": "6_sDPvWsjYja",
        "colab": {
          "base_uri": "https://localhost:8080/"
        },
        "outputId": "3f293764-d54c-49ce-8bb5-307bad1931c1"
      },
      "execution_count": null,
      "outputs": [
        {
          "output_type": "stream",
          "name": "stdout",
          "text": [
            "Word:  अफ़सर\n",
            "Word Association score : 0.1000009\n",
            "Word:  सेनाध्यक्ष\n",
            "Word Association score : 0.069324285\n",
            "Word:  शिकारी\n",
            "Word Association score : 0.013010815\n",
            "Word:  सैनिक\n",
            "Word Association score : 0.034523323\n",
            "Word:  राजनीतिज्ञ\n",
            "Word Association score : 0.031035617\n",
            "Word:  नर्स\n",
            "Word Association score : -0.08173919\n",
            "Word:  बाई\n",
            "Word Association score : -0.0930875\n",
            "Word:  शिल्पी\n",
            "Word Association score : 0.0059954077\n",
            "Word:  रसोइया\n",
            "Word Association score : -0.032498248\n",
            "Word:  दाई\n",
            "Word Association score : -0.09120695\n"
          ]
        }
      ]
    },
    {
      "cell_type": "code",
      "source": [
        "X_sent = []\n",
        "Y_sent = []\n",
        "for i in range(0,len(X_sentiment)):\n",
        "  print(\"Word: \", X_sentiment_mean[i])\n",
        "  X_sent.append(weat_association_score(X_sentiment[i],male_terms, female_terms))\n",
        "  print(\"Word Association score :\", weat_association_score(X_sentiment[i],male_terms, female_terms))  \n",
        "for i in range(0,len(Y_sentiment)):\n",
        "  print(\"Word: \", Y_sentiment_mean[i])\n",
        "  Y_sent.append(weat_association_score(Y_sentiment[i],male_terms, female_terms))\n",
        "  print(\"Word Association score :\", weat_association_score(Y_sentiment[i],male_terms, female_terms))\n"
      ],
      "metadata": {
        "id": "eT9opnnyc_j5",
        "colab": {
          "base_uri": "https://localhost:8080/"
        },
        "outputId": "4f6999b6-c9a7-4a7a-ee34-90d75b52877b"
      },
      "execution_count": null,
      "outputs": [
        {
          "output_type": "stream",
          "name": "stdout",
          "text": [
            "Word:  श्रम\n",
            "Word Association score : 0.027383596\n",
            "Word:  हमला\n",
            "Word Association score : 0.029544353\n",
            "Word:  मुकाबला\n",
            "Word Association score : 0.042320892\n",
            "Word:  कसरत\n",
            "Word Association score : 0.020074017\n",
            "Word:  घायल\n",
            "Word Association score : 0.027937204\n",
            "Word:  शादी\n",
            "Word Association score : -0.062015027\n",
            "Word:  तलाक\n",
            "Word Association score : -0.06276907\n",
            "Word:  परिपक्व\n",
            "Word Association score : -0.02333355\n",
            "Word:  प्यार\n",
            "Word Association score : -0.00092718005\n",
            "Word:  सुंदरता\n",
            "Word Association score : -0.0879106\n"
          ]
        }
      ]
    },
    {
      "cell_type": "code",
      "source": [
        "print(\"Weat score for profession analysis:\")\n",
        "WEAT_score(X_prof,Y_prof)"
      ],
      "metadata": {
        "id": "1WNkyrgqxr4V",
        "colab": {
          "base_uri": "https://localhost:8080/"
        },
        "outputId": "f539f801-57ad-4b76-b541-984fe9fec5d3"
      },
      "execution_count": null,
      "outputs": [
        {
          "output_type": "stream",
          "name": "stdout",
          "text": [
            "Weat score for profession analysis:\n",
            "1.6740278\n"
          ]
        }
      ]
    },
    {
      "cell_type": "code",
      "source": [
        "print(\"Weat score for sentiment analysis:\")\n",
        "WEAT_score(X_sent,Y_sent)"
      ],
      "metadata": {
        "id": "8jCqu8ISAxYS",
        "colab": {
          "base_uri": "https://localhost:8080/"
        },
        "outputId": "f4973a16-3025-47a7-e0dc-24946ee290a7"
      },
      "execution_count": null,
      "outputs": [
        {
          "output_type": "stream",
          "name": "stdout",
          "text": [
            "Weat score for sentiment analysis:\n",
            "1.7246517\n"
          ]
        }
      ]
    }
  ]
}