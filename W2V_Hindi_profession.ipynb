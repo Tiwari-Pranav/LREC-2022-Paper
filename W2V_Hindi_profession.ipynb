{
  "nbformat": 4,
  "nbformat_minor": 0,
  "metadata": {
    "colab": {
      "name": "W2V_Hindi_profession.ipynb",
      "provenance": []
    },
    "kernelspec": {
      "name": "python3",
      "display_name": "Python 3"
    },
    "language_info": {
      "name": "python"
    }
  },
  "cells": [
    {
      "cell_type": "code",
      "execution_count": null,
      "metadata": {
        "id": "J3-qfykzfGG8",
        "colab": {
          "base_uri": "https://localhost:8080/"
        },
        "outputId": "fcedcf0d-1178-471a-a3aa-aaef19e9ae18"
      },
      "outputs": [
        {
          "output_type": "stream",
          "name": "stdout",
          "text": [
            "Collecting spicy\n",
            "  Downloading spicy-0.16.0-py2.py3-none-any.whl (1.7 kB)\n",
            "Requirement already satisfied: scipy in /usr/local/lib/python3.7/dist-packages (from spicy) (1.4.1)\n",
            "Requirement already satisfied: numpy>=1.13.3 in /usr/local/lib/python3.7/dist-packages (from scipy->spicy) (1.21.5)\n",
            "Installing collected packages: spicy\n",
            "Successfully installed spicy-0.16.0\n"
          ]
        }
      ],
      "source": [
        "!pip install spicy"
      ]
    },
    {
      "cell_type": "code",
      "source": [
        "import gensim\n",
        "import spicy\n",
        "import statistics\n",
        "import numpy as np\n",
        "from numpy import mean\n",
        "import random\n",
        "import urllib.request\n",
        "import pandas as pd\n",
        "import zipfile"
      ],
      "metadata": {
        "id": "Q3oZ_OM4fP9D"
      },
      "execution_count": null,
      "outputs": []
    },
    {
      "cell_type": "code",
      "source": [
        "we_models = {\"Hindi\": \"http://vectors.nlpl.eu/repository/20/48.zip\"}"
      ],
      "metadata": {
        "id": "zcO71KB0fVEs"
      },
      "execution_count": null,
      "outputs": []
    },
    {
      "cell_type": "code",
      "source": [
        "def get_models(model_url, model_name, path_to_save = \"we_models\"):\n",
        "  model_path = path_to_save + model_name + \".zip\"\n",
        "  urllib.request.urlretrieve(model_url, model_path)\n",
        "\n",
        "for model_name, model_url in we_models.items():\n",
        "  get_models(model_url,model_name)"
      ],
      "metadata": {
        "id": "GIEc3TL0fXpy"
      },
      "execution_count": null,
      "outputs": []
    },
    {
      "cell_type": "code",
      "source": [
        "with zipfile.ZipFile(\"we_modelsHindi.zip\", 'r') as zip_ref:\n",
        "  zip_ref.extractall(\"we_modelsHindi\")"
      ],
      "metadata": {
        "id": "OW4D0up0faAh"
      },
      "execution_count": null,
      "outputs": []
    },
    {
      "cell_type": "code",
      "source": [
        "def open_model(model_name, model_path, is_fasttext = False):\n",
        "  if is_fasttext == False:\n",
        "    model_file = \"we_modelsHindi.zip\" #model_path + model_name + \".zip\"\n",
        "    with zipfile.ZipFile(model_file, 'r') as archive:\n",
        "      stream = archive.open('model.bin')\n",
        "      model = gensim.models.KeyedVectors.load_word2vec_format(stream, binary=True)\n",
        "  else:\n",
        "    model_file = model_path + model_name\n",
        "    model = gensim.models.KeyedVectors.load(model_file + \"model.model\") \n",
        "  return model"
      ],
      "metadata": {
        "id": "6yH5Qxt_fcoP"
      },
      "execution_count": null,
      "outputs": []
    },
    {
      "cell_type": "code",
      "source": [
        "m = open_model(\"Hindi\",\"http://vectors.nlpl.eu/repository/20/48.zip\")   #model"
      ],
      "metadata": {
        "id": "ZQZTv66iffGg"
      },
      "execution_count": null,
      "outputs": []
    },
    {
      "cell_type": "code",
      "source": [
        "male_terms = [\"लड़का\",\"भाई\",\"बेटा\", \"आदमी\",\"नर\",\"चाचा\",\"पिता\",\"पापा\",\"दादा\",\"पुरुष\"]\n",
        "\n",
        "female_terms = [\"लड़की\",\"बहन\",\"बेटी\", \"औरत\",\"नारी\",\"चाची\",\"माता\",\"मां\",\"दादी\",\"स्री\"]"
      ],
      "metadata": {
        "id": "aMmpcY5IfleQ"
      },
      "execution_count": null,
      "outputs": []
    },
    {
      "cell_type": "code",
      "source": [
        "#attribute words \n",
        "target_words =[\"शादी\", \"तलाक\", \"विलोपन\", \"सगाई\", \"शादी\",\"सुदृढीकरण\", \"हमला\", \"मुकाबला\", \"शक्ति\", \"घटाएँ\"]\n",
        "\n",
        "A_attribute_words = [\"लड़का\",\"भाई\",\"बेटा\", \"आदमी\",\"नर\",\"चाचा\",\"पिता\",\"पापा\",\"दादा\",\"पुरुष\"]\n",
        "\n",
        "B_attribute_words = [\"लड़की\",\"बहन\",\"बेटी\", \"औरत\",\"नारी\",\"चाची\",\"माता\",\"मां\",\"दादी\",\"स्री\"]"
      ],
      "metadata": {
        "id": "NzQ9rUAeJuUJ"
      },
      "execution_count": null,
      "outputs": []
    },
    {
      "cell_type": "code",
      "source": [
        "def cosine_vectors(v1, v2):\n",
        "  v1=v1 / np.linalg.norm(v1)\n",
        "  v2=v2 / np.linalg.norm(v2)\n",
        "  return np.dot(v1,v2)\n",
        "\n",
        "def Word_association_score(w, A, B):        \n",
        "  w_a_sim, w_b_sim = 0 ,0\n",
        "  for i in range(len(A)):\n",
        "    w_a_sim += cosine_vectors(m[w], m[A[i]])\n",
        "    w_b_sim += cosine_vectors(m[w], m[B[i]])\n",
        "  return w_a_sim/len(A) - w_b_sim/len(B)\n",
        "\n",
        "def WEAT_score(x,y):\n",
        "  a= np.array([x,y])\n",
        "  np.std(a)\n",
        "\n",
        "  d= (np.mean(x) - np.mean(y))/np.std(a)\n",
        "  print(d)"
      ],
      "metadata": {
        "id": "YAGCB3M4fnuG"
      },
      "execution_count": null,
      "outputs": []
    },
    {
      "cell_type": "code",
      "source": [
        "X_profession = [\"अफ़सर\",\"सेनाध्यक्ष\",\"शिकारी\",\"सैनिक\",\"राजनीतिज्ञ\"]\n",
        "Y_profession = [\"नर्स\",\"बाई\",\"शिल्पी\",\"रसोइया\",\"दाई\"]\n",
        "X_sentiment = [\"श्रम\",\"हमला\",\"मुकाबला\",\" कसरत\",\"घायल\"]\n",
        "Y_sentiment = [\"शादी\",\"तलाक\",\"परिपक्व\",\"प्यार\",\"सुंदरता\"]\n",
        "X_prof = []\n",
        "Y_prof = []\n",
        "print(\"#############>>>> male profession<<<<<<<<##################\")\n",
        "for i in X_profession:\n",
        "  print(\"Word: \", i)\n",
        "  X_prof.append(Word_association_score(i,male_terms, female_terms))\n",
        "  print(\"Word Association score :\", Word_association_score(i,male_terms, female_terms))  \n",
        "print(\"#############>>>> female profession<<<<<<<<##################\")  \n",
        "for i in Y_profession:\n",
        "  print(\"Word: \", i)\n",
        "  Y_prof.append(Word_association_score(i,male_terms, female_terms))\n",
        "  print(\"Word Association score :\", Word_association_score(i,male_terms, female_terms))\n"
      ],
      "metadata": {
        "id": "nCmfenR0fvVR",
        "colab": {
          "base_uri": "https://localhost:8080/"
        },
        "outputId": "12854229-08ce-4436-b175-ecb35ab9b2c7"
      },
      "execution_count": null,
      "outputs": [
        {
          "output_type": "stream",
          "name": "stdout",
          "text": [
            "#############>>>> male profession<<<<<<<<##################\n",
            "Word:  अफ़सर\n",
            "Word Association score : 0.04489950239658358\n",
            "Word:  सेनाध्यक्ष\n",
            "Word Association score : 0.018657295405864693\n",
            "Word:  शिकारी\n",
            "Word Association score : 0.0005291894078254811\n",
            "Word:  सैनिक\n",
            "Word Association score : 0.019465237855911255\n",
            "Word:  राजनीतिज्ञ\n",
            "Word Association score : 0.07803242355585094\n",
            "#############>>>> female profession<<<<<<<<##################\n",
            "Word:  नर्स\n",
            "Word Association score : -0.07989390790462497\n",
            "Word:  बाई\n",
            "Word Association score : -0.0855322375893593\n",
            "Word:  शिल्पी\n",
            "Word Association score : -0.012108600139617953\n",
            "Word:  रसोइया\n",
            "Word Association score : -0.04561199247837061\n",
            "Word:  दाई\n",
            "Word Association score : -0.025014623999595642\n"
          ]
        }
      ]
    },
    {
      "cell_type": "code",
      "source": [
        "wl=[\"शिल्पी\"]\n",
        "m.wv.most_similar(positive=wl, topn=6)"
      ],
      "metadata": {
        "id": "FZ_DN7zDf2Vq",
        "outputId": "20b5c45d-740d-4bd4-eb95-e882c8d97421",
        "colab": {
          "base_uri": "https://localhost:8080/"
        }
      },
      "execution_count": null,
      "outputs": [
        {
          "output_type": "stream",
          "name": "stderr",
          "text": [
            "/usr/local/lib/python3.7/dist-packages/ipykernel_launcher.py:2: DeprecationWarning: Call to deprecated `wv` (Attribute will be removed in 4.0.0, use self instead).\n",
            "  \n"
          ]
        },
        {
          "output_type": "execute_result",
          "data": {
            "text/plain": [
              "[('चक्रधर', 0.7538183927536011),\n",
              " ('दीपशिखा', 0.7195455431938171),\n",
              " ('शिवपूजन', 0.7124967575073242),\n",
              " ('भारतभूषण', 0.7057862281799316),\n",
              " ('श्रोत्रिय', 0.7019214630126953),\n",
              " ('श्रीकान्त', 0.6967810392379761)]"
            ]
          },
          "metadata": {},
          "execution_count": 12
        }
      ]
    },
    {
      "cell_type": "code",
      "source": [
        "wl=[\"नर्स\"]\n",
        "m.wv.most_similar(positive=wl, topn=6)"
      ],
      "metadata": {
        "id": "WSF_q1Y6UiW1",
        "outputId": "d3daa136-0c1e-42b0-b915-f997f65fa70f",
        "colab": {
          "base_uri": "https://localhost:8080/"
        }
      },
      "execution_count": null,
      "outputs": [
        {
          "output_type": "stream",
          "name": "stderr",
          "text": [
            "/usr/local/lib/python3.7/dist-packages/ipykernel_launcher.py:2: DeprecationWarning: Call to deprecated `wv` (Attribute will be removed in 4.0.0, use self instead).\n",
            "  \n"
          ]
        },
        {
          "output_type": "execute_result",
          "data": {
            "text/plain": [
              "[('डॉक्टर', 0.7291558980941772),\n",
              " ('नर्सिंग', 0.7059869766235352),\n",
              " ('नर्सों', 0.7026386857032776),\n",
              " ('अनाथालय', 0.696033239364624),\n",
              " ('चिकित्सक', 0.6940851211547852),\n",
              " ('अध्यापिका', 0.6926935911178589)]"
            ]
          },
          "metadata": {},
          "execution_count": 13
        }
      ]
    }
  ]
}